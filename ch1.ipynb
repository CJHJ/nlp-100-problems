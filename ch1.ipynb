{
 "cells": [
  {
   "cell_type": "code",
   "execution_count": 2,
   "metadata": {},
   "outputs": [],
   "source": [
    "import numpy as np"
   ]
  },
  {
   "cell_type": "markdown",
   "metadata": {},
   "source": [
    "# 第1章: 準備運動"
   ]
  },
  {
   "cell_type": "markdown",
   "metadata": {},
   "source": [
    "## 00. 文字列の逆順\n",
    "文字列\"stressed\"の文字を逆に（末尾から先頭に向かって）並べた文字列を得よ．"
   ]
  },
  {
   "cell_type": "code",
   "execution_count": 4,
   "metadata": {},
   "outputs": [
    {
     "name": "stdout",
     "output_type": "stream",
     "text": [
      "desserts\n"
     ]
    }
   ],
   "source": [
    "string = \"stressed\"\n",
    "print(string[::-1])"
   ]
  },
  {
   "cell_type": "markdown",
   "metadata": {},
   "source": [
    "## 01. 「パタトクカシーー」\n",
    "「パタトクカシーー」という文字列の1,3,5,7文字目を取り出して連結した文字列を得よ．"
   ]
  },
  {
   "cell_type": "code",
   "execution_count": 5,
   "metadata": {},
   "outputs": [
    {
     "name": "stdout",
     "output_type": "stream",
     "text": [
      "タクシー\n"
     ]
    }
   ],
   "source": [
    "string = \"パタトクカシーー\"\n",
    "print(string[1::2])"
   ]
  },
  {
   "cell_type": "markdown",
   "metadata": {},
   "source": [
    "## 02. 「パトカー」＋「タクシー」＝「パタトクカシーー」\n",
    "「パトカー」＋「タクシー」の文字を先頭から交互に連結して文字列「パタトクカシーー」を得よ．"
   ]
  },
  {
   "cell_type": "code",
   "execution_count": 6,
   "metadata": {},
   "outputs": [
    {
     "name": "stdout",
     "output_type": "stream",
     "text": [
      "パタトクカシーー\n"
     ]
    }
   ],
   "source": [
    "string1 = \"パトカー\"\n",
    "string2 = \"タクシー\"\n",
    "temp = \"\"\n",
    "for i in range(len(string1)):\n",
    "    temp += string1[i]\n",
    "    temp += string2[i]\n",
    "print(temp)"
   ]
  },
  {
   "cell_type": "markdown",
   "metadata": {},
   "source": [
    "## 03. 円周率\n",
    "\"Now I need a drink, alcoholic of course, after the heavy lectures involving quantum mechanics.\"という文を単語に分解し，各単語の（アルファベットの）文字数を先頭から出現順に並べたリストを作成せよ．"
   ]
  },
  {
   "cell_type": "code",
   "execution_count": 9,
   "metadata": {},
   "outputs": [
    {
     "data": {
      "text/plain": [
       "['Now',\n",
       " 'I',\n",
       " 'deen',\n",
       " 'a',\n",
       " 'diknr',\n",
       " 'acchilloo',\n",
       " 'fo',\n",
       " 'ceorsu',\n",
       " 'aefrt',\n",
       " 'eht',\n",
       " 'aehvy',\n",
       " 'ceelrstu',\n",
       " 'giilnnovv',\n",
       " 'amnqtuu',\n",
       " 'accehimns']"
      ]
     },
     "execution_count": 9,
     "metadata": {},
     "output_type": "execute_result"
    }
   ],
   "source": [
    "sentence = \"Now I need a drink, alcoholic of course, after the heavy lectures involving quantum mechanics.\"\n",
    "words = sentence.split(' ')\n",
    "sorted_words = []\n",
    "\n",
    "for word in words:\n",
    "    temp = word.rstrip('.,')\n",
    "    sorted_words.append(''.join(sorted(temp)))\n",
    "    \n",
    "sorted_words"
   ]
  },
  {
   "cell_type": "markdown",
   "metadata": {},
   "source": [
    "# 04. 元素記号\n",
    "\"Hi He Lied Because Boron Could Not Oxidize Fluorine. New Nations Might Also Sign Peace Security Clause. Arthur King Can.\"という文を単語に分解し，1, 5, 6, 7, 8, 9, 15, 16, 19番目の単語は先頭の1文字，それ以外の単語は先頭に2文字を取り出し，取り出した文字列から単語の位置（先頭から何番目の単語か）への連想配列（辞書型もしくはマップ型）を作成せよ．"
   ]
  },
  {
   "cell_type": "code",
   "execution_count": 10,
   "metadata": {},
   "outputs": [
    {
     "name": "stdout",
     "output_type": "stream",
     "text": [
      "{'Hi': 0, 'H': 1, 'Li': 2, 'Be': 3, 'Bo': 4, 'C': 19, 'N': 9, 'O': 7, 'F': 8, 'Na': 10, 'Mi': 11, 'Al': 12, 'Si': 13, 'Pe': 14, 'S': 15, 'Ar': 17, 'Ki': 18}\n"
     ]
    }
   ],
   "source": [
    "sentence = \"Hi He Lied Because Boron Could Not Oxidize Fluorine. New Nations Might Also Sign Peace Security Clause. Arthur King Can.\"\n",
    "words = sentence.split(' ')\n",
    "initials = {}\n",
    "\n",
    "for i, word in enumerate(words):\n",
    "    temp = word.rstrip('.,')\n",
    "    \n",
    "    if i in [1, 5, 6, 7, 8, 9, 15, 16, 19]:\n",
    "        initials[temp[0]] = i\n",
    "    else:\n",
    "        initials[temp[:2]] = i\n",
    "\n",
    "print(initials)\n"
   ]
  },
  {
   "cell_type": "markdown",
   "metadata": {},
   "source": [
    "## 05. n-gram\n",
    "与えられたシーケンス（文字列やリストなど）からn-gramを作る関数を作成せよ．この関数を用い，\"I am an NLPer\"という文から単語bi-gram，文字bi-gramを得よ．"
   ]
  },
  {
   "cell_type": "code",
   "execution_count": 13,
   "metadata": {},
   "outputs": [
    {
     "data": {
      "text/plain": [
       "(['I am', 'am an', 'an NLPer'],\n",
       " ['I ', ' a', 'am', 'm ', ' a', 'an', 'n ', ' N', 'NL', 'LP', 'Pe', 'er'])"
      ]
     },
     "execution_count": 13,
     "metadata": {},
     "output_type": "execute_result"
    }
   ],
   "source": [
    "def build_n_gram(n, string):\n",
    "    word_gram = []\n",
    "    char_gram = []\n",
    "    \n",
    "    for i in range(len(string) - (n - 1)):\n",
    "        char_gram.append(''.join([string[j] for j in range(i, i + n)]))\n",
    "        \n",
    "    splitted_string = string.split(' ')\n",
    "        \n",
    "    for i in range(len(splitted_string) - (n - 1)):\n",
    "        word_gram.append(' '.join([splitted_string[j] for j in range(i, i + n)]))\n",
    "    \n",
    "    return word_gram, char_gram\n",
    "\n",
    "build_n_gram(2, \"I am an NLPer\")"
   ]
  },
  {
   "cell_type": "markdown",
   "metadata": {},
   "source": [
    "## 06. 集合\n",
    "\"paraparaparadise\"と\"paragraph\"に含まれる文字bi-gramの集合を，それぞれ, XとYとして求め，XとYの和集合，積集合，差集合を求めよ．さらに，'se'というbi-gramがXおよびYに含まれるかどうかを調べよ．"
   ]
  },
  {
   "cell_type": "code",
   "execution_count": 19,
   "metadata": {},
   "outputs": [
    {
     "name": "stdout",
     "output_type": "stream",
     "text": [
      "X: {'is', 'se', 'di', 'ap', 'ar', 'ad', 'pa', 'ra'}\n",
      "Y: {'gr', 'ap', 'ar', 'ph', 'ag', 'pa', 'ra'}\n",
      "X | Y: {'is', 'se', 'di', 'gr', 'ap', 'ar', 'ad', 'ph', 'ag', 'pa', 'ra'}\n",
      "X & Y: {'ar', 'ap', 'ra', 'pa'}\n",
      "X - Y: {'is', 'se', 'ad', 'di'}\n"
     ]
    }
   ],
   "source": [
    "_, X = build_n_gram(2, \"paraparaparadise\")\n",
    "_, Y = build_n_gram(2, \"paragraph\")\n",
    "\n",
    "X = set(X)\n",
    "Y = set(Y)\n",
    "\n",
    "# Set operations\n",
    "U = X.union(Y)\n",
    "I = X.intersection(Y)\n",
    "D = X.difference(Y)\n",
    "\n",
    "print(\"X:\", X)\n",
    "print(\"Y:\", Y)\n",
    "print(\"X | Y:\", U)\n",
    "print(\"X & Y:\", I)\n",
    "print(\"X - Y:\", D)\n",
    "\n",
    "# 'se'はXのみに含まれている"
   ]
  },
  {
   "cell_type": "markdown",
   "metadata": {},
   "source": [
    "## 07. テンプレートによる文生成\n",
    "引数x, y, zを受け取り「x時のyはz」という文字列を返す関数を実装せよ．さらに，x=12, y=\"気温\", z=22.4として，実行結果を確認せよ．"
   ]
  },
  {
   "cell_type": "code",
   "execution_count": 21,
   "metadata": {},
   "outputs": [
    {
     "data": {
      "text/plain": [
       "'12時の気温は22.4'"
      ]
     },
     "execution_count": 21,
     "metadata": {},
     "output_type": "execute_result"
    }
   ],
   "source": [
    "def temperature(x, y, z):\n",
    "    return \"{}時の{}は{}\".format(x, y, z)\n",
    "\n",
    "foo(12, \"気温\", 22.4)"
   ]
  },
  {
   "cell_type": "markdown",
   "metadata": {},
   "source": [
    "## 08. 暗号文\n",
    "与えられた文字列の各文字を，以下の仕様で変換する関数cipherを実装せよ．\n",
    "\n",
    "英小文字ならば(219 - 文字コード)の文字に置換\n",
    "その他の文字はそのまま出力\n",
    "この関数を用い，英語のメッセージを暗号化・復号化せよ．"
   ]
  },
  {
   "cell_type": "code",
   "execution_count": 31,
   "metadata": {},
   "outputs": [
    {
     "name": "stdout",
     "output_type": "stream",
     "text": [
      "zagvxAZTEC aztecAZTEC\n"
     ]
    }
   ],
   "source": [
    "def cipher(string):\n",
    "    temp = \"\"\n",
    "    for c in string:\n",
    "        if ord(c) >= 97 and ord(c) <= 122:\n",
    "            temp += chr(219 - ord(c))\n",
    "        else:\n",
    "            temp += c\n",
    "    \n",
    "    return temp\n",
    "\n",
    "encoded = cipher(\"aztecAZTEC\")\n",
    "decoded = cipher(encoded)\n",
    "\n",
    "print(encoded, decoded)"
   ]
  },
  {
   "cell_type": "markdown",
   "metadata": {},
   "source": [
    "## 09. Typoglycemia\n",
    "スペースで区切られた単語列に対して，各単語の先頭と末尾の文字は残し，それ以外の文字の順序をランダムに並び替えるプログラムを作成せよ．ただし，長さが４以下の単語は並び替えないこととする．適当な英語の文（例えば\"I couldn't believe that I could actually understand what I was reading : the phenomenal power of the human mind .\"）を与え，その実行結果を確認せよ．"
   ]
  },
  {
   "cell_type": "code",
   "execution_count": 36,
   "metadata": {},
   "outputs": [
    {
     "name": "stdout",
     "output_type": "stream",
     "text": [
      "I cnld'uot bleieve that I cuold aluatcly utrenndsad what I was rinadeg : the phnenamoel power of the huamn mind .\n"
     ]
    }
   ],
   "source": [
    "import random\n",
    "\n",
    "def randomize(string):\n",
    "    temp = \"\"\n",
    "    sampled_indices = random.sample(range(len(string)), len(string))\n",
    "    \n",
    "    for i in sampled_indices:\n",
    "        temp += string[i]\n",
    "        \n",
    "    return temp\n",
    "\n",
    "def typoglycemia(string):\n",
    "    splitted_string = string.split(\" \")\n",
    "    \n",
    "    temp = []\n",
    "    \n",
    "    for word in splitted_string:\n",
    "        if len(word) <= 4:\n",
    "            temp.append(word)\n",
    "        else:\n",
    "            temp.append(word[0] + randomize(word[1:-1]) + word[-1])\n",
    "            \n",
    "    return \" \".join(temp)\n",
    "\n",
    "print(typoglycemia(\"I couldn't believe that I could actually understand what I was reading : the phenomenal power of the human mind .\"))"
   ]
  },
  {
   "cell_type": "code",
   "execution_count": null,
   "metadata": {},
   "outputs": [],
   "source": []
  }
 ],
 "metadata": {
  "kernelspec": {
   "display_name": "Python 3",
   "language": "python",
   "name": "python3"
  },
  "language_info": {
   "codemirror_mode": {
    "name": "ipython",
    "version": 3
   },
   "file_extension": ".py",
   "mimetype": "text/x-python",
   "name": "python",
   "nbconvert_exporter": "python",
   "pygments_lexer": "ipython3",
   "version": "3.7.3"
  }
 },
 "nbformat": 4,
 "nbformat_minor": 4
}
