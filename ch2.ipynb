{
 "cells": [
  {
   "cell_type": "markdown",
   "metadata": {},
   "source": [
    "# 第2章: UNIXコマンドの基礎"
   ]
  },
  {
   "cell_type": "markdown",
   "metadata": {},
   "source": [
    "hightemp.txtは，日本の最高気温の記録を「都道府県」「地点」「℃」「日」のタブ区切り形式で格納したファイルである．以下の処理を行うプログラムを作成し，hightemp.txtを入力ファイルとして実行せよ．さらに，同様の処理をUNIXコマンドでも実行し，プログラムの実行結果を確認せよ．"
   ]
  },
  {
   "cell_type": "code",
   "execution_count": 2,
   "metadata": {},
   "outputs": [],
   "source": [
    "f = open('hightemp.txt', 'r')\n",
    "file_lines = f.readlines()\n",
    "f.close()"
   ]
  },
  {
   "cell_type": "markdown",
   "metadata": {},
   "source": [
    "## 10. 行数のカウント\n",
    "行数をカウントせよ．確認にはwcコマンドを用いよ．"
   ]
  },
  {
   "cell_type": "code",
   "execution_count": 3,
   "metadata": {},
   "outputs": [
    {
     "name": "stdout",
     "output_type": "stream",
     "text": [
      "24\n"
     ]
    }
   ],
   "source": [
    "print(len(file_lines))"
   ]
  },
  {
   "cell_type": "code",
   "execution_count": 4,
   "metadata": {},
   "outputs": [
    {
     "name": "stdout",
     "output_type": "stream",
     "text": [
      "      24 hightemp.txt\n"
     ]
    }
   ],
   "source": [
    "!wc -l hightemp.txt"
   ]
  },
  {
   "cell_type": "markdown",
   "metadata": {},
   "source": [
    "## 11. タブをスペースに置換\n",
    "タブ1文字につきスペース1文字に置換せよ．確認にはsedコマンド，trコマンド，もしくはexpandコマンドを用いよ．"
   ]
  },
  {
   "cell_type": "code",
   "execution_count": 5,
   "metadata": {},
   "outputs": [
    {
     "name": "stdout",
     "output_type": "stream",
     "text": [
      "高知県 江川崎 41 2013-08-12\n",
      "埼玉県 熊谷 40.9 2007-08-16\n",
      "岐阜県 多治見 40.9 2007-08-16\n",
      "山形県 山形 40.8 1933-07-25\n",
      "山梨県 甲府 40.7 2013-08-10\n",
      "和歌山県 かつらぎ 40.6 1994-08-08\n",
      "静岡県 天竜 40.6 1994-08-04\n",
      "山梨県 勝沼 40.5 2013-08-10\n",
      "埼玉県 越谷 40.4 2007-08-16\n",
      "群馬県 館林 40.3 2007-08-16\n",
      "群馬県 上里見 40.3 1998-07-04\n",
      "愛知県 愛西 40.3 1994-08-05\n",
      "千葉県 牛久 40.2 2004-07-20\n",
      "静岡県 佐久間 40.2 2001-07-24\n",
      "愛媛県 宇和島 40.2 1927-07-22\n",
      "山形県 酒田 40.1 1978-08-03\n",
      "岐阜県 美濃 40 2007-08-16\n",
      "群馬県 前橋 40 2001-07-24\n",
      "千葉県 茂原 39.9 2013-08-11\n",
      "埼玉県 鳩山 39.9 1997-07-05\n",
      "大阪府 豊中 39.9 1994-08-08\n",
      "山梨県 大月 39.9 1990-07-19\n",
      "山形県 鶴岡 39.9 1978-08-03\n",
      "愛知県 名古屋 39.9 1942-08-02\n",
      "\n"
     ]
    }
   ],
   "source": [
    "new_file = \"\"\n",
    "for line in file_lines:\n",
    "    new_file += line.replace('\\t', ' ')\n",
    "print(new_file)"
   ]
  },
  {
   "cell_type": "code",
   "execution_count": 6,
   "metadata": {},
   "outputs": [
    {
     "name": "stdout",
     "output_type": "stream",
     "text": [
      "高知県 江川崎 41 2013-08-12\n",
      "埼玉県 熊谷 40.9 2007-08-16\n",
      "岐阜県 多治見 40.9 2007-08-16\n",
      "山形県 山形 40.8 1933-07-25\n",
      "山梨県 甲府 40.7 2013-08-10\n",
      "和歌山県 かつらぎ 40.6 1994-08-08\n",
      "静岡県 天竜 40.6 1994-08-04\n",
      "山梨県 勝沼 40.5 2013-08-10\n",
      "埼玉県 越谷 40.4 2007-08-16\n",
      "群馬県 館林 40.3 2007-08-16\n",
      "群馬県 上里見 40.3 1998-07-04\n",
      "愛知県 愛西 40.3 1994-08-05\n",
      "千葉県 牛久 40.2 2004-07-20\n",
      "静岡県 佐久間 40.2 2001-07-24\n",
      "愛媛県 宇和島 40.2 1927-07-22\n",
      "山形県 酒田 40.1 1978-08-03\n",
      "岐阜県 美濃 40 2007-08-16\n",
      "群馬県 前橋 40 2001-07-24\n",
      "千葉県 茂原 39.9 2013-08-11\n",
      "埼玉県 鳩山 39.9 1997-07-05\n",
      "大阪府 豊中 39.9 1994-08-08\n",
      "山梨県 大月 39.9 1990-07-19\n",
      "山形県 鶴岡 39.9 1978-08-03\n",
      "愛知県 名古屋 39.9 1942-08-02\n"
     ]
    }
   ],
   "source": [
    "!sed 's/\t/ /g' hightemp.txt"
   ]
  },
  {
   "cell_type": "code",
   "execution_count": 7,
   "metadata": {},
   "outputs": [
    {
     "name": "stdout",
     "output_type": "stream",
     "text": [
      "高知県 江川崎 41 2013-08-12\n",
      "埼玉県 熊谷 40.9 2007-08-16\n",
      "岐阜県 多治見 40.9 2007-08-16\n",
      "山形県 山形 40.8 1933-07-25\n",
      "山梨県 甲府 40.7 2013-08-10\n",
      "和歌山県 かつらぎ 40.6 1994-08-08\n",
      "静岡県 天竜 40.6 1994-08-04\n",
      "山梨県 勝沼 40.5 2013-08-10\n",
      "埼玉県 越谷 40.4 2007-08-16\n",
      "群馬県 館林 40.3 2007-08-16\n",
      "群馬県 上里見 40.3 1998-07-04\n",
      "愛知県 愛西 40.3 1994-08-05\n",
      "千葉県 牛久 40.2 2004-07-20\n",
      "静岡県 佐久間 40.2 2001-07-24\n",
      "愛媛県 宇和島 40.2 1927-07-22\n",
      "山形県 酒田 40.1 1978-08-03\n",
      "岐阜県 美濃 40 2007-08-16\n",
      "群馬県 前橋 40 2001-07-24\n",
      "千葉県 茂原 39.9 2013-08-11\n",
      "埼玉県 鳩山 39.9 1997-07-05\n",
      "大阪府 豊中 39.9 1994-08-08\n",
      "山梨県 大月 39.9 1990-07-19\n",
      "山形県 鶴岡 39.9 1978-08-03\n",
      "愛知県 名古屋 39.9 1942-08-02\n"
     ]
    }
   ],
   "source": [
    "!cat hightemp.txt | tr '\t' ' '"
   ]
  },
  {
   "cell_type": "code",
   "execution_count": 8,
   "metadata": {},
   "outputs": [
    {
     "name": "stdout",
     "output_type": "stream",
     "text": [
      "高知県 江川崎 41 2013-08-12\n",
      "埼玉県 熊谷 40.9 2007-08-16\n",
      "岐阜県 多治見 40.9 2007-08-16\n",
      "山形県 山形 40.8 1933-07-25\n",
      "山梨県 甲府 40.7 2013-08-10\n",
      "和歌山県 かつらぎ 40.6 1994-08-08\n",
      "静岡県 天竜 40.6 1994-08-04\n",
      "山梨県 勝沼 40.5 2013-08-10\n",
      "埼玉県 越谷 40.4 2007-08-16\n",
      "群馬県 館林 40.3 2007-08-16\n",
      "群馬県 上里見 40.3 1998-07-04\n",
      "愛知県 愛西 40.3 1994-08-05\n",
      "千葉県 牛久 40.2 2004-07-20\n",
      "静岡県 佐久間 40.2 2001-07-24\n",
      "愛媛県 宇和島 40.2 1927-07-22\n",
      "山形県 酒田 40.1 1978-08-03\n",
      "岐阜県 美濃 40 2007-08-16\n",
      "群馬県 前橋 40 2001-07-24\n",
      "千葉県 茂原 39.9 2013-08-11\n",
      "埼玉県 鳩山 39.9 1997-07-05\n",
      "大阪府 豊中 39.9 1994-08-08\n",
      "山梨県 大月 39.9 1990-07-19\n",
      "山形県 鶴岡 39.9 1978-08-03\n",
      "愛知県 名古屋 39.9 1942-08-02\n"
     ]
    }
   ],
   "source": [
    "!expand -t1 hightemp.txt"
   ]
  },
  {
   "cell_type": "markdown",
   "metadata": {},
   "source": [
    "## 12. 1列目をcol1.txtに，2列目をcol2.txtに保存\n",
    "各行の1列目だけを抜き出したものをcol1.txtに，2列目だけを抜き出したものをcol2.txtとしてファイルに保存せよ．確認にはcutコマンドを用いよ．"
   ]
  },
  {
   "cell_type": "code",
   "execution_count": 9,
   "metadata": {},
   "outputs": [],
   "source": [
    "def save_string(string, name):\n",
    "    with open(name, 'w') as f:\n",
    "        f.write(string)\n",
    "\n",
    "col1 = \"\"\n",
    "col2 = \"\"\n",
    "for line in file_lines:\n",
    "    col1 += line[0] + '\\n'\n",
    "    col2 += line[1] + '\\n'\n",
    "    \n",
    "save_string(col1, 'col1.txt')\n",
    "save_string(col2, 'col2.txt')"
   ]
  },
  {
   "cell_type": "markdown",
   "metadata": {},
   "source": [
    "## 13. col1.txtとcol2.txtをマージ\n",
    "12で作ったcol1.txtとcol2.txtを結合し，元のファイルの1列目と2列目をタブ区切りで並べたテキストファイルを作成せよ．確認にはpasteコマンドを用いよ．"
   ]
  },
  {
   "cell_type": "code",
   "execution_count": 10,
   "metadata": {},
   "outputs": [],
   "source": [
    "result = \"\"\n",
    "\n",
    "with open('col1.txt', 'r') as f1:\n",
    "    with open('col2.txt', 'r') as f2:\n",
    "        line1 = f1.readline().rstrip('\\n')\n",
    "        line2 = f2.readline()\n",
    "        \n",
    "        while line1 and line2:\n",
    "            result += line1 + '\\t' + line2\n",
    "            line1 = f1.readline().rstrip('\\n')\n",
    "            line2 = f2.readline() \n",
    "        \n",
    "        save_string(result, 'result.txt')"
   ]
  },
  {
   "cell_type": "code",
   "execution_count": 11,
   "metadata": {},
   "outputs": [
    {
     "name": "stdout",
     "output_type": "stream",
     "text": [
      "高\t知\n",
      "埼\t玉\n",
      "岐\t阜\n",
      "山\t形\n",
      "山\t梨\n",
      "和\t歌\n",
      "静\t岡\n",
      "山\t梨\n",
      "埼\t玉\n",
      "群\t馬\n",
      "群\t馬\n",
      "愛\t知\n",
      "千\t葉\n",
      "静\t岡\n",
      "愛\t媛\n",
      "山\t形\n",
      "岐\t阜\n",
      "群\t馬\n",
      "千\t葉\n",
      "埼\t玉\n",
      "大\t阪\n",
      "山\t梨\n",
      "山\t形\n",
      "愛\t知\n"
     ]
    }
   ],
   "source": [
    "!paste col1.txt col2.txt"
   ]
  },
  {
   "cell_type": "markdown",
   "metadata": {},
   "source": [
    "<u><b>ここから、コマンドライン引数の手段で引数を受け取ると書いてあるところは、全て普通の関数に変換させます。</b></u>  \n",
    "理由は、回答をJupyter Labで行っているからです。"
   ]
  },
  {
   "cell_type": "markdown",
   "metadata": {},
   "source": [
    "## 14. 先頭からN行を出力\n",
    "自然数Nをコマンドライン引数などの手段で受け取り，入力のうち先頭のN行だけを表示せよ．確認にはheadコマンドを用いよ．"
   ]
  },
  {
   "cell_type": "code",
   "execution_count": 26,
   "metadata": {},
   "outputs": [
    {
     "name": "stdout",
     "output_type": "stream",
     "text": [
      "高\t知\n",
      "埼\t玉\n",
      "岐\t阜\n",
      "山\t形\n",
      "山\t梨\n",
      "和\t歌\n",
      "静\t岡\n",
      "山\t梨\n",
      "埼\t玉\n",
      "群\t馬\n",
      "\n"
     ]
    }
   ],
   "source": [
    "def read_head(N, filename):\n",
    "    with open(filename, 'r') as f:\n",
    "        result = f.readline()\n",
    "        temp = result\n",
    "        if temp is \"\": i = 0\n",
    "        else: i = 1\n",
    "        \n",
    "        while i != N and temp:\n",
    "            temp = f.readline()\n",
    "            result += temp\n",
    "            i += 1\n",
    "            \n",
    "        print(result)\n",
    "        \n",
    "read_head(10, 'result.txt')"
   ]
  },
  {
   "cell_type": "code",
   "execution_count": 1,
   "metadata": {},
   "outputs": [
    {
     "name": "stdout",
     "output_type": "stream",
     "text": [
      "高\t知\n",
      "埼\t玉\n",
      "岐\t阜\n",
      "山\t形\n",
      "山\t梨\n",
      "和\t歌\n",
      "静\t岡\n",
      "山\t梨\n",
      "埼\t玉\n",
      "群\t馬\n"
     ]
    }
   ],
   "source": [
    "!head -n 10 result.txt "
   ]
  },
  {
   "cell_type": "markdown",
   "metadata": {},
   "source": [
    "## 15. 末尾のN行を出力\n",
    "自然数Nをコマンドライン引数などの手段で受け取り，入力のうち末尾のN行だけを表示せよ．確認にはtailコマンドを用いよ．"
   ]
  },
  {
   "cell_type": "code",
   "execution_count": 19,
   "metadata": {},
   "outputs": [
    {
     "name": "stdout",
     "output_type": "stream",
     "text": [
      "愛\t媛\n",
      "山\t形\n",
      "岐\t阜\n",
      "群\t馬\n",
      "千\t葉\n",
      "埼\t玉\n",
      "大\t阪\n",
      "山\t梨\n",
      "山\t形\n",
      "愛\t知\n"
     ]
    }
   ],
   "source": [
    "def read_tail(N, filename):\n",
    "    with open(filename, 'r') as f:\n",
    "        result = f.readlines()\n",
    "        \n",
    "        for i, line in enumerate(result):\n",
    "            if i >= len(result) - N:\n",
    "                print(line, end=\"\")\n",
    "\n",
    "        \n",
    "read_tail(10, 'result.txt')"
   ]
  },
  {
   "cell_type": "code",
   "execution_count": 20,
   "metadata": {},
   "outputs": [
    {
     "name": "stdout",
     "output_type": "stream",
     "text": [
      "愛\t媛\n",
      "山\t形\n",
      "岐\t阜\n",
      "群\t馬\n",
      "千\t葉\n",
      "埼\t玉\n",
      "大\t阪\n",
      "山\t梨\n",
      "山\t形\n",
      "愛\t知\n"
     ]
    }
   ],
   "source": [
    "!tail -n 10 result.txt"
   ]
  },
  {
   "cell_type": "markdown",
   "metadata": {},
   "source": [
    "## 16. ファイルをN分割する\n",
    "自然数Nをコマンドライン引数などの手段で受け取り，入力のファイルを行単位でN分割せよ．同様の処理をsplitコマンドで実現せよ．"
   ]
  },
  {
   "cell_type": "code",
   "execution_count": 31,
   "metadata": {},
   "outputs": [
    {
     "data": {
      "text/plain": [
       "['高\\t知\\n埼\\t玉\\n岐\\t阜\\n',\n",
       " '山\\t形\\n山\\t梨\\n和\\t歌\\n',\n",
       " '静\\t岡\\n山\\t梨\\n埼\\t玉\\n',\n",
       " '群\\t馬\\n群\\t馬\\n愛\\t知\\n',\n",
       " '千\\t葉\\n静\\t岡\\n愛\\t媛\\n',\n",
       " '山\\t形\\n岐\\t阜\\n群\\t馬\\n',\n",
       " '千\\t葉\\n埼\\t玉\\n大\\t阪\\n',\n",
       " '山\\t梨\\n山\\t形\\n愛\\t知\\n']"
      ]
     },
     "execution_count": 31,
     "metadata": {},
     "output_type": "execute_result"
    }
   ],
   "source": [
    "def split_file(N, filename):\n",
    "    with open(filename, 'r') as f:\n",
    "        lines = f.readlines()\n",
    "        result = []\n",
    "        temp = \"\"\n",
    "        split_th = len(lines) // N\n",
    "        \n",
    "        for i, line in enumerate(lines):\n",
    "            temp += line\n",
    "            if (i + 1) % split_th == 0:\n",
    "                result.append(temp)\n",
    "                temp = \"\"\n",
    "                \n",
    "        if temp != \"\":\n",
    "            result.append(temp)\n",
    "            \n",
    "        return result\n",
    "\n",
    "split_file(8, 'result.txt')"
   ]
  },
  {
   "cell_type": "code",
   "execution_count": null,
   "metadata": {},
   "outputs": [],
   "source": [
    "!gsplit -n 8 result.txt result"
   ]
  },
  {
   "cell_type": "markdown",
   "metadata": {},
   "source": [
    "gsplitを使う理由は、macのsplitには、-nのオプションがないからです。gsplitを利用する前に、brewとかで`brew install coreutils`を実行すれば良い。"
   ]
  },
  {
   "cell_type": "markdown",
   "metadata": {},
   "source": [
    "## 17. １列目の文字列の異なり\n",
    "1列目の文字列の種類（異なる文字列の集合）を求めよ．確認にはsort, uniqコマンドを用いよ．"
   ]
  },
  {
   "cell_type": "code",
   "execution_count": 34,
   "metadata": {},
   "outputs": [
    {
     "data": {
      "text/plain": [
       "{'千', '和', '埼', '大', '山', '岐', '愛', '群', '静', '高'}"
      ]
     },
     "execution_count": 34,
     "metadata": {},
     "output_type": "execute_result"
    }
   ],
   "source": [
    "first_col_set = set()\n",
    "\n",
    "for line in file_lines:\n",
    "    first_col_set.add(line[0])\n",
    "    \n",
    "first_col_set"
   ]
  },
  {
   "cell_type": "code",
   "execution_count": null,
   "metadata": {},
   "outputs": [],
   "source": [
    "!sed 's/./& /g' high"
   ]
  },
  {
   "cell_type": "markdown",
   "metadata": {},
   "source": [
    "## 18. 各行を3コラム目の数値の降順にソート\n",
    "各行を3コラム目の数値の逆順で整列せよ（注意: 各行の内容は変更せずに並び替えよ）．確認にはsortコマンドを用いよ（この問題はコマンドで実行した時の結果と合わなくてもよい）．"
   ]
  },
  {
   "cell_type": "code",
   "execution_count": 39,
   "metadata": {},
   "outputs": [
    {
     "data": {
      "text/plain": [
       "['高知県\\t江川崎\\t41\\t2013-08-12\\n',\n",
       " '埼玉県\\t熊谷\\t40.9\\t2007-08-16\\n',\n",
       " '岐阜県\\t多治見\\t40.9\\t2007-08-16\\n',\n",
       " '山形県\\t山形\\t40.8\\t1933-07-25\\n',\n",
       " '山梨県\\t甲府\\t40.7\\t2013-08-10\\n',\n",
       " '和歌山県\\tかつらぎ\\t40.6\\t1994-08-08\\n',\n",
       " '静岡県\\t天竜\\t40.6\\t1994-08-04\\n',\n",
       " '山梨県\\t勝沼\\t40.5\\t2013-08-10\\n',\n",
       " '埼玉県\\t越谷\\t40.4\\t2007-08-16\\n',\n",
       " '群馬県\\t館林\\t40.3\\t2007-08-16\\n',\n",
       " '群馬県\\t上里見\\t40.3\\t1998-07-04\\n',\n",
       " '愛知県\\t愛西\\t40.3\\t1994-08-05\\n',\n",
       " '千葉県\\t牛久\\t40.2\\t2004-07-20\\n',\n",
       " '静岡県\\t佐久間\\t40.2\\t2001-07-24\\n',\n",
       " '愛媛県\\t宇和島\\t40.2\\t1927-07-22\\n',\n",
       " '山形県\\t酒田\\t40.1\\t1978-08-03\\n',\n",
       " '岐阜県\\t美濃\\t40\\t2007-08-16\\n',\n",
       " '群馬県\\t前橋\\t40\\t2001-07-24\\n',\n",
       " '千葉県\\t茂原\\t39.9\\t2013-08-11\\n',\n",
       " '埼玉県\\t鳩山\\t39.9\\t1997-07-05\\n',\n",
       " '大阪府\\t豊中\\t39.9\\t1994-08-08\\n',\n",
       " '山梨県\\t大月\\t39.9\\t1990-07-19\\n',\n",
       " '山形県\\t鶴岡\\t39.9\\t1978-08-03\\n',\n",
       " '愛知県\\t名古屋\\t39.9\\t1942-08-02\\n']"
      ]
     },
     "execution_count": 39,
     "metadata": {},
     "output_type": "execute_result"
    }
   ],
   "source": [
    "sorted_file_lines = sorted(file_lines, key=lambda line: float(line.split('\\t')[2]), reverse=True)\n",
    "sorted_file_lines"
   ]
  },
  {
   "cell_type": "markdown",
   "metadata": {},
   "source": [
    "## 19. 各行の1コラム目の文字列の出現頻度を求め，出現頻度の高い順に並べる\n",
    "各行の1列目の文字列の出現頻度を求め，その高い順に並べて表示せよ．確認にはcut, uniq, sortコマンドを用いよ．"
   ]
  },
  {
   "cell_type": "code",
   "execution_count": 45,
   "metadata": {},
   "outputs": [
    {
     "data": {
      "text/plain": [
       "[('埼玉県', 3),\n",
       " ('山形県', 3),\n",
       " ('山梨県', 3),\n",
       " ('群馬県', 3),\n",
       " ('岐阜県', 2),\n",
       " ('静岡県', 2),\n",
       " ('愛知県', 2),\n",
       " ('千葉県', 2),\n",
       " ('高知県', 1),\n",
       " ('和歌山県', 1),\n",
       " ('愛媛県', 1),\n",
       " ('大阪府', 1)]"
      ]
     },
     "execution_count": 45,
     "metadata": {},
     "output_type": "execute_result"
    }
   ],
   "source": [
    "line_prob = {}\n",
    "\n",
    "for line in file_lines:\n",
    "    splitted = line.split('\\t')\n",
    "    \n",
    "    if splitted[0] not in line_prob:\n",
    "        line_prob[splitted[0]] = 1\n",
    "    elif splitted[0] in line_prob:\n",
    "        line_prob[splitted[0]] += 1\n",
    "    \n",
    "sorted_line_prob = sorted(list(line_prob.items()), key=lambda x: x[1], reverse=True)\n",
    "sorted_line_prob"
   ]
  },
  {
   "cell_type": "code",
   "execution_count": null,
   "metadata": {},
   "outputs": [],
   "source": []
  }
 ],
 "metadata": {
  "kernelspec": {
   "display_name": "Python 3",
   "language": "python",
   "name": "python3"
  },
  "language_info": {
   "codemirror_mode": {
    "name": "ipython",
    "version": 3
   },
   "file_extension": ".py",
   "mimetype": "text/x-python",
   "name": "python",
   "nbconvert_exporter": "python",
   "pygments_lexer": "ipython3",
   "version": "3.7.3"
  }
 },
 "nbformat": 4,
 "nbformat_minor": 4
}
